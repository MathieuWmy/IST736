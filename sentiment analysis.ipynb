{
 "cells": [
  {
   "cell_type": "code",
   "execution_count": 1,
   "metadata": {},
   "outputs": [],
   "source": [
    "import pandas as p\n",
    "train=p.read_csv(\"736project data.tsv\", delimiter='\\t')\n",
    "YS = train.loc[train['Bottle'] == 0]\n",
    "YS_sentiment = YS['Sentiment'].values\n",
    "YS_review = YS['Review'].values\n",
    "Y12 = train.loc[train['Bottle'] == 1]\n",
    "Y12_Pos = Y12.loc[Y12['Sentiment'] ==0]\n",
    "Y12_Pos_review = Y12_Pos['Review'].values\n",
    "Y12_Neg = Y12.loc[Y12['Sentiment'] ==2]\n",
    "Y12_Neg_review = Y12_Neg['Review'].values\n",
    "NB = train.loc[train['Bottle'] == 2]\n",
    "NB_sentiment = NB['Sentiment'].values\n",
    "NB_review = NB['Review'].values"
   ]
  },
  {
   "cell_type": "code",
   "execution_count": 2,
   "metadata": {},
   "outputs": [],
   "source": [
    "Y12_Pos = Y12.loc[Y12['Sentiment'] ==0]\n",
    "Y12_Pos_review = Y12_Pos['Review'].values\n",
    "Y12_Neg = Y12.loc[Y12['Sentiment'] ==2]\n",
    "Y12_Neg_review = Y12_Neg['Review'].values"
   ]
  },
  {
   "cell_type": "code",
   "execution_count": 3,
   "metadata": {},
   "outputs": [],
   "source": [
    "from sklearn.feature_extraction.text import CountVectorizer\n",
    "from sklearn.feature_extraction.text import TfidfVectorizer\n",
    "#  unigram term frequency vectorizer, set minimum document frequency to 5\n",
    "unigram_count_vectorizer = CountVectorizer(encoding='latin-1', binary=False, min_df=2, stop_words='english')"
   ]
  },
  {
   "cell_type": "code",
   "execution_count": 4,
   "metadata": {},
   "outputs": [],
   "source": [
    "Y12_Pos_vec = unigram_count_vectorizer.fit_transform(Y12_Pos_review)\n",
    "Y12_Neg_vec = unigram_count_vectorizer.fit_transform(Y12_Neg_review)"
   ]
  },
  {
   "cell_type": "code",
   "execution_count": 17,
   "metadata": {},
   "outputs": [
    {
     "name": "stdout",
     "output_type": "stream",
     "text": [
      "  (0, 51)\t1\n",
      "  (0, 138)\t1\n",
      "  (0, 157)\t1\n",
      "  (0, 10)\t1\n"
     ]
    }
   ],
   "source": [
    "print(Y12_Pos_vec[2])"
   ]
  },
  {
   "cell_type": "code",
   "execution_count": 21,
   "metadata": {
    "scrolled": true
   },
   "outputs": [
    {
     "name": "stdout",
     "output_type": "stream",
     "text": [
      "\n",
      "The following command must be run outside of the IPython shell:\n",
      "\n",
      "    $ pip install wordcloud\n",
      "\n",
      "The Python package manager (pip) can only be used from outside of IPython.\n",
      "Please reissue the `pip` command in a separate terminal or command prompt.\n",
      "\n",
      "See the Python documentation for more information on how to install packages:\n",
      "\n",
      "    https://docs.python.org/3/installing/\n"
     ]
    }
   ],
   "source": [
    "pip install wordcloud"
   ]
  },
  {
   "cell_type": "code",
   "execution_count": 5,
   "metadata": {},
   "outputs": [],
   "source": [
    "\n",
    "import numpy as np\n",
    "import matplotlib.pyplot as plt\n",
    "from wordcloud import WordCloud"
   ]
  },
  {
   "cell_type": "code",
   "execution_count": 9,
   "metadata": {},
   "outputs": [],
   "source": [
    "wordcloud = WordCloud().generate(Y12_Pos_review[1])"
   ]
  },
  {
   "cell_type": "code",
   "execution_count": 11,
   "metadata": {},
   "outputs": [
    {
     "data": {
      "image/png": "[encoded data removed]",
      "text/plain": [
       "<Figure size 432x288 with 1 Axes>"
      ]
     },
     "metadata": {
      "needs_background": "light"
     },
     "output_type": "display_data"
    }
   ],
   "source": [
    "plt.imshow(wordcloud, interpolation='bilinear')\n",
    "plt.axis(\"off\")\n",
    "plt.show()"
   ]
  },
  {
   "cell_type": "code",
   "execution_count": 3,
   "metadata": {},
   "outputs": [],
   "source": [
    "YS_vec = unigram_count_vectorizer.fit_transform(YS_review)\n",
    "Y12_vec = unigram_count_vectorizer.fit_transform(Y12_review)\n",
    "NB_vec = unigram_count_vectorizer.fit_transform(NB_review)"
   ]
  },
  {
   "cell_type": "markdown",
   "metadata": {},
   "source": [
    "# SVMs Yamazaki Sherry 2016 "
   ]
  },
  {
   "cell_type": "markdown",
   "metadata": {},
   "source": [
    "## Uni-gram"
   ]
  },
  {
   "cell_type": "markdown",
   "metadata": {},
   "source": [
    "### feature words"
   ]
  },
  {
   "cell_type": "code",
   "execution_count": 4,
   "metadata": {},
   "outputs": [
    {
     "data": {
      "text/plain": [
       "LinearSVC(C=1, class_weight=None, dual=True, fit_intercept=True,\n",
       "     intercept_scaling=1, loss='squared_hinge', max_iter=1000,\n",
       "     multi_class='ovr', penalty='l2', random_state=None, tol=0.0001,\n",
       "     verbose=0)"
      ]
     },
     "execution_count": 4,
     "metadata": {},
     "output_type": "execute_result"
    }
   ],
   "source": [
    "from sklearn.svm import LinearSVC\n",
    "svm_clf_YS = LinearSVC(C=1)\n",
    "svm_clf_YS.fit(YS_vec,YS_review)"
   ]
  },
  {
   "cell_type": "code",
   "execution_count": 145,
   "metadata": {
    "scrolled": true
   },
   "outputs": [
    {
     "name": "stdout",
     "output_type": "stream",
     "text": [
      "Yamazaki Sherry Cask 2016 positive feature words\n",
      "(0.0, 'yesterday')\n",
      "(1.0842021724855044e-19, 'speyside')\n",
      "(6.071532165918825e-18, 'sweetness')\n",
      "(0.24256062715378301, 'recently')\n",
      "(0.35760646975380334, 'wow')\n",
      "Yamazaki Sherry Cask 2016 neutral feature words\n",
      "(0.13521280974321556, 'body')\n",
      "(0.13521280974321556, 'expert')\n",
      "(0.13521280974321556, 'immediately')\n",
      "(0.13521280974321556, 'like')\n",
      "(0.21612903856693821, 'goes')\n",
      "Yamazaki Sherry Cask 2016 negative feature words\n",
      "(0.08630739637860758, 'buttery')\n",
      "(0.13774942558996156, 'yen')\n",
      "(0.23432978120547976, 'apple')\n",
      "(0.3211040111667392, 'poor')\n",
      "(0.4686733446503121, '40')\n"
     ]
    }
   ],
   "source": [
    "\n",
    "\n",
    "pos_feature_ranks = sorted(zip(svm_clf_YS.coef_[0], unigram_count_vectorizer.get_feature_names()))\n",
    "Yamazaki_Sherry_Positive_10 = pos_feature_ranks[-5:]\n",
    "print(\"Yamazaki Sherry Cask 2016 positive feature words\")\n",
    "for i in range(0, len(Yamazaki_Sherry_Positive_10)):\n",
    "    print(Yamazaki_Sherry_Positive_10[i])\n",
    "    \n",
    "neu_feature_ranks = sorted(zip(svm_clf_YS.coef_[1], unigram_count_vectorizer.get_feature_names()))\n",
    "Yamazaki_Sherry_neutral_10 = neu_feature_ranks[-5:]\n",
    "print(\"Yamazaki Sherry Cask 2016 neutral feature words\")\n",
    "for i in range(0, len(Yamazaki_Sherry_neutral_10)):\n",
    "    print(Yamazaki_Sherry_neutral_10[i])\n",
    "    \n",
    "\n",
    "\n",
    "neg_feature_ranks = sorted(zip(svm_clf_YS.coef_[2], unigram_count_vectorizer.get_feature_names()))\n",
    "Yamazaki_Sherry_negative_10 = neg_feature_ranks[-5:]\n",
    "print(\"Yamazaki Sherry Cask 2016 negative feature words\")\n",
    "for i in range(0, len(Yamazaki_Sherry_negative_10)):\n",
    "    print(Yamazaki_Sherry_negative_10[i])\n"
   ]
  },
  {
   "cell_type": "markdown",
   "metadata": {},
   "source": [
    "### sentiment prediction"
   ]
  },
  {
   "cell_type": "code",
   "execution_count": 150,
   "metadata": {},
   "outputs": [],
   "source": [
    "from sklearn.model_selection import train_test_split\n",
    "X_train, X_test, y_train, y_test = train_test_split(YS_review, YS_sentiment, test_size=0.4, random_state=0)\n"
   ]
  },
  {
   "cell_type": "code",
   "execution_count": 151,
   "metadata": {},
   "outputs": [],
   "source": [
    "X_train_vec = unigram_count_vectorizer.fit_transform(X_train)\n",
    "X_test_vec = unigram_count_vectorizer.transform(X_test)"
   ]
  },
  {
   "cell_type": "code",
   "execution_count": 152,
   "metadata": {},
   "outputs": [
    {
     "data": {
      "text/plain": [
       "LinearSVC(C=1, class_weight=None, dual=True, fit_intercept=True,\n",
       "     intercept_scaling=1, loss='squared_hinge', max_iter=1000,\n",
       "     multi_class='ovr', penalty='l2', random_state=None, tol=0.0001,\n",
       "     verbose=0)"
      ]
     },
     "execution_count": 152,
     "metadata": {},
     "output_type": "execute_result"
    }
   ],
   "source": [
    "from sklearn.svm import LinearSVC\n",
    "svm_clf = LinearSVC(C=1)\n",
    "svm_clf.fit(X_train_vec,y_train)"
   ]
  },
  {
   "cell_type": "code",
   "execution_count": 153,
   "metadata": {},
   "outputs": [
    {
     "data": {
      "text/plain": [
       "0.45652173913043476"
      ]
     },
     "execution_count": 153,
     "metadata": {},
     "output_type": "execute_result"
    }
   ],
   "source": [
    "svm_clf.score(X_test_vec,y_test)"
   ]
  },
  {
   "cell_type": "code",
   "execution_count": 154,
   "metadata": {},
   "outputs": [
    {
     "name": "stdout",
     "output_type": "stream",
     "text": [
      "[[ 5  6  0]\n",
      " [ 5 15  4]\n",
      " [ 2  8  1]]\n",
      "\n",
      "             precision    recall  f1-score   support\n",
      "\n",
      "          0       0.42      0.45      0.43        11\n",
      "          1       0.52      0.62      0.57        24\n",
      "          2       0.20      0.09      0.13        11\n",
      "\n",
      "avg / total       0.42      0.46      0.43        46\n",
      "\n"
     ]
    }
   ],
   "source": [
    "from sklearn.metrics import confusion_matrix\n",
    "y_pred = svm_clf.predict(X_test_vec)\n",
    "cm=confusion_matrix(y_test, y_pred, labels=[0,1,2])\n",
    "print(cm)\n",
    "print()\n",
    "from sklearn.metrics import classification_report\n",
    "target_names = ['0','1','2']\n",
    "print(classification_report(y_test, y_pred, target_names=target_names))"
   ]
  },
  {
   "cell_type": "code",
   "execution_count": null,
   "metadata": {},
   "outputs": [],
   "source": []
  },
  {
   "cell_type": "code",
   "execution_count": 155,
   "metadata": {},
   "outputs": [],
   "source": [
    "from sklearn.model_selection import train_test_split\n",
    "X_train, X_test, y_train, y_test = train_test_split(Y12_review, Y12_sentiment, test_size=0.4, random_state=0)\n",
    "\n",
    "\n",
    "X_train_vec = unigram_count_vectorizer.fit_transform(X_train)\n",
    "X_test_vec = unigram_count_vectorizer.transform(X_test)\n",
    "\n"
   ]
  },
  {
   "cell_type": "code",
   "execution_count": 156,
   "metadata": {},
   "outputs": [
    {
     "name": "stdout",
     "output_type": "stream",
     "text": [
      "[[27  5  1]\n",
      " [ 6  5  1]\n",
      " [ 2  1  1]]\n",
      "\n",
      "             precision    recall  f1-score   support\n",
      "\n",
      "          0       0.77      0.82      0.79        33\n",
      "          1       0.45      0.42      0.43        12\n",
      "          2       0.33      0.25      0.29         4\n",
      "\n",
      "avg / total       0.66      0.67      0.66        49\n",
      "\n"
     ]
    }
   ],
   "source": [
    "from sklearn.svm import LinearSVC\n",
    "svm_clf = LinearSVC(C=1)\n",
    "svm_clf.fit(X_train_vec,y_train)\n",
    "\n",
    "\n",
    "\n"
   ]
  },
  {
   "cell_type": "code",
   "execution_count": 157,
   "metadata": {},
   "outputs": [
    {
     "data": {
      "text/plain": [
       "0.673469387755102"
      ]
     },
     "execution_count": 157,
     "metadata": {},
     "output_type": "execute_result"
    }
   ],
   "source": [
    "svm_clf.score(X_test_vec,y_test)"
   ]
  },
  {
   "cell_type": "code",
   "execution_count": 158,
   "metadata": {},
   "outputs": [
    {
     "name": "stdout",
     "output_type": "stream",
     "text": [
      "[[27  5  1]\n",
      " [ 6  5  1]\n",
      " [ 2  1  1]]\n",
      "\n",
      "             precision    recall  f1-score   support\n",
      "\n",
      "          0       0.77      0.82      0.79        33\n",
      "          1       0.45      0.42      0.43        12\n",
      "          2       0.33      0.25      0.29         4\n",
      "\n",
      "avg / total       0.66      0.67      0.66        49\n",
      "\n"
     ]
    }
   ],
   "source": [
    "from sklearn.metrics import confusion_matrix\n",
    "y_pred = svm_clf.predict(X_test_vec)\n",
    "cm=confusion_matrix(y_test, y_pred, labels=[0,1,2])\n",
    "print(cm)\n",
    "print()\n",
    "from sklearn.metrics import classification_report\n",
    "target_names = ['0','1','2']\n",
    "print(classification_report(y_test, y_pred, target_names=target_names))"
   ]
  },
  {
   "cell_type": "code",
   "execution_count": null,
   "metadata": {},
   "outputs": [],
   "source": []
  },
  {
   "cell_type": "code",
   "execution_count": 140,
   "metadata": {},
   "outputs": [
    {
     "data": {
      "text/plain": [
       "LinearSVC(C=1, class_weight=None, dual=True, fit_intercept=True,\n",
       "     intercept_scaling=1, loss='squared_hinge', max_iter=1000,\n",
       "     multi_class='ovr', penalty='l2', random_state=None, tol=0.0001,\n",
       "     verbose=0)"
      ]
     },
     "execution_count": 140,
     "metadata": {},
     "output_type": "execute_result"
    }
   ],
   "source": [
    "\n",
    "svm_clf_Y12 = LinearSVC(C=1)\n",
    "svm_clf_Y12.fit(Y12_vec,Y12_review)"
   ]
  },
  {
   "cell_type": "code",
   "execution_count": 141,
   "metadata": {
    "scrolled": true
   },
   "outputs": [
    {
     "name": "stdout",
     "output_type": "stream",
     "text": [
      "Yamazaki 12 Year Old positive feature words\n",
      "(0.06280043221667303, 'evident')\n",
      "(0.2952863261647363, 'seconds')\n",
      "(0.38640505846871975, 'didn')\n",
      "(0.43515344850158016, 'pungent')\n",
      "(0.4840857507847187, 'open')\n",
      "Yamazaki 12 Year Old neutral feature words\n",
      "(0.3059864641664776, 'lot')\n",
      "(0.3094776258867953, 'money')\n",
      "(0.3178123284343278, 'shape')\n",
      "(0.37471374236790395, 'came')\n",
      "(0.3800297981873839, 'finish')\n",
      "Yamazaki 12 Year Old negative feature words\n",
      "(0.05259038215208521, 'flavors')\n",
      "(0.06478156551511362, 'months')\n",
      "(0.07066454719164067, 'comes')\n",
      "(0.07248993283968633, 'easily')\n",
      "(0.07248993283968634, 'matured')\n"
     ]
    }
   ],
   "source": [
    "\n",
    "pos_feature_ranks = sorted(zip(svm_clf_Y12.coef_[0], unigram_count_vectorizer.get_feature_names()))\n",
    "Yamazaki_12_Positive_10 = pos_feature_ranks[-5:]\n",
    "print(\"Yamazaki 12 Year Old positive feature words\")\n",
    "for i in range(0, len(Yamazaki_12_Positive_10)):\n",
    "    print(Yamazaki_12_Positive_10[i])\n",
    "\n",
    "neu_feature_ranks = sorted(zip(svm_clf_Y12.coef_[1], unigram_count_vectorizer.get_feature_names()))\n",
    "Yamazaki_12_Neutral_10 = neu_feature_ranks[-5:]\n",
    "print(\"Yamazaki 12 Year Old neutral feature words\")\n",
    "for i in range(0, len(Yamazaki_12_Neutral_10)):\n",
    "    print(Yamazaki_12_Neutral_10[i])\n",
    "\n",
    "neg_feature_ranks = sorted(zip(svm_clf_Y12.coef_[2], unigram_count_vectorizer.get_feature_names()))\n",
    "Yamazaki_12_Negative_10 = neg_feature_ranks[-5:]\n",
    "print(\"Yamazaki 12 Year Old negative feature words\")\n",
    "for i in range(0, len(Yamazaki_12_Negative_10)):\n",
    "    print(Yamazaki_12_Negative_10[i])"
   ]
  },
  {
   "cell_type": "code",
   "execution_count": null,
   "metadata": {},
   "outputs": [],
   "source": []
  },
  {
   "cell_type": "code",
   "execution_count": 160,
   "metadata": {},
   "outputs": [],
   "source": [
    "from sklearn.model_selection import train_test_split\n",
    "X_train, X_test, y_train, y_test = train_test_split(NB_review, NB_sentiment, test_size=0.4, random_state=0)\n",
    "\n",
    "\n",
    "X_train_vec = unigram_count_vectorizer.fit_transform(X_train)\n",
    "X_test_vec = unigram_count_vectorizer.transform(X_test)\n"
   ]
  },
  {
   "cell_type": "code",
   "execution_count": 161,
   "metadata": {},
   "outputs": [
    {
     "data": {
      "text/plain": [
       "LinearSVC(C=1, class_weight=None, dual=True, fit_intercept=True,\n",
       "     intercept_scaling=1, loss='squared_hinge', max_iter=1000,\n",
       "     multi_class='ovr', penalty='l2', random_state=None, tol=0.0001,\n",
       "     verbose=0)"
      ]
     },
     "execution_count": 161,
     "metadata": {},
     "output_type": "execute_result"
    }
   ],
   "source": [
    "from sklearn.svm import LinearSVC\n",
    "svm_clf = LinearSVC(C=1)\n",
    "svm_clf.fit(X_train_vec,y_train)\n"
   ]
  },
  {
   "cell_type": "code",
   "execution_count": 162,
   "metadata": {},
   "outputs": [
    {
     "data": {
      "text/plain": [
       "0.8166666666666667"
      ]
     },
     "execution_count": 162,
     "metadata": {},
     "output_type": "execute_result"
    }
   ],
   "source": [
    "svm_clf.score(X_test_vec,y_test)\n",
    "\n"
   ]
  },
  {
   "cell_type": "code",
   "execution_count": 163,
   "metadata": {},
   "outputs": [
    {
     "name": "stdout",
     "output_type": "stream",
     "text": [
      "[[45  6  0]\n",
      " [ 4  4  0]\n",
      " [ 1  0  0]]\n",
      "\n",
      "             precision    recall  f1-score   support\n",
      "\n",
      "          0       0.90      0.88      0.89        51\n",
      "          1       0.40      0.50      0.44         8\n",
      "          2       0.00      0.00      0.00         1\n",
      "\n",
      "avg / total       0.82      0.82      0.82        60\n",
      "\n"
     ]
    },
    {
     "name": "stderr",
     "output_type": "stream",
     "text": [
      "/anaconda3/lib/python3.7/site-packages/sklearn/metrics/classification.py:1135: UndefinedMetricWarning: Precision and F-score are ill-defined and being set to 0.0 in labels with no predicted samples.\n",
      "  'precision', 'predicted', average, warn_for)\n"
     ]
    }
   ],
   "source": [
    "from sklearn.metrics import confusion_matrix\n",
    "y_pred = svm_clf.predict(X_test_vec)\n",
    "cm=confusion_matrix(y_test, y_pred, labels=[0,1,2])\n",
    "print(cm)\n",
    "print()\n",
    "from sklearn.metrics import classification_report\n",
    "target_names = ['0','1','2']\n",
    "print(classification_report(y_test, y_pred, target_names=target_names))"
   ]
  },
  {
   "cell_type": "code",
   "execution_count": null,
   "metadata": {},
   "outputs": [],
   "source": []
  },
  {
   "cell_type": "code",
   "execution_count": 142,
   "metadata": {},
   "outputs": [
    {
     "data": {
      "text/plain": [
       "LinearSVC(C=1, class_weight=None, dual=True, fit_intercept=True,\n",
       "     intercept_scaling=1, loss='squared_hinge', max_iter=1000,\n",
       "     multi_class='ovr', penalty='l2', random_state=None, tol=0.0001,\n",
       "     verbose=0)"
      ]
     },
     "execution_count": 142,
     "metadata": {},
     "output_type": "execute_result"
    }
   ],
   "source": [
    "\n",
    "svm_clf_NB = LinearSVC(C=1)\n",
    "svm_clf_NB.fit(NB_vec,NB_review)"
   ]
  },
  {
   "cell_type": "code",
   "execution_count": 143,
   "metadata": {},
   "outputs": [
    {
     "name": "stdout",
     "output_type": "stream",
     "text": [
      "Nikka Whisky positive feature words\n",
      "(0.18308020067508085, 'smells')\n",
      "(0.2010198632435432, 'home')\n",
      "(0.20692646579043164, 'arrived')\n",
      "(0.21125172625503663, 'suggest')\n",
      "(0.21422894556431285, 'work')\n",
      "Nikka Whisky neutral feature words\n",
      "(0.056513978081861156, 'nose')\n",
      "(0.0567976211655845, 'does')\n",
      "(0.05775221729281895, 'hits')\n",
      "(0.05937325666312584, 'winter')\n",
      "(0.0830557167513568, 'spice')\n"
     ]
    }
   ],
   "source": [
    "pos_feature_ranks = sorted(zip(svm_clf_NB.coef_[0], unigram_count_vectorizer.get_feature_names()))\n",
    "Nikka_Positive_10 = pos_feature_ranks[-5:]\n",
    "print(\"Nikka Whisky positive feature words\")\n",
    "for i in range(0, len(Nikka_Positive_10)):\n",
    "    print(Nikka_Positive_10[i])\n",
    "\n",
    "neu_feature_ranks = sorted(zip(svm_clf_NB.coef_[1], unigram_count_vectorizer.get_feature_names()))\n",
    "Nikka_Neutral_10 = neu_feature_ranks[-5:]\n",
    "print(\"Nikka Whisky neutral feature words\")\n",
    "for i in range(0, len(Nikka_Neutral_10)):\n",
    "    print(Nikka_Neutral_10[i])"
   ]
  },
  {
   "cell_type": "code",
   "execution_count": null,
   "metadata": {},
   "outputs": [],
   "source": []
  }
 ],
 "metadata": {
  "kernelspec": {
   "display_name": "Python 3",
   "language": "python",
   "name": "python3"
  },
  "language_info": {
   "codemirror_mode": {
    "name": "ipython",
    "version": 3
   },
   "file_extension": ".py",
   "mimetype": "text/x-python",
   "name": "python",
   "nbconvert_exporter": "python",
   "pygments_lexer": "ipython3",
   "version": "3.6.8"
  }
 },
 "nbformat": 4,
 "nbformat_minor": 2
}
